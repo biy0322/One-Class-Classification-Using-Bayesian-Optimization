{
 "cells": [
  {
   "cell_type": "code",
   "execution_count": 1,
   "id": "d0bf204e",
   "metadata": {
    "ExecuteTime": {
     "end_time": "2024-04-03T11:37:22.466267Z",
     "start_time": "2024-04-03T11:37:20.876812Z"
    }
   },
   "outputs": [],
   "source": [
    "from Virtual_Dataset import Dataset\n",
    "from Visualization import Plotly_Visualization, Plotly_Visualization_result, Seaborn_Visualization, Seaborn_Visualization_result\n",
    "from Train import Train\n",
    "from Summary import summary\n",
    "from Evaluation import predict\n",
    "\n",
    "import numpy as np\n",
    "import random"
   ]
  },
  {
   "cell_type": "code",
   "execution_count": 2,
   "id": "f44ee050",
   "metadata": {
    "ExecuteTime": {
     "end_time": "2024-04-03T11:37:22.470913Z",
     "start_time": "2024-04-03T11:37:22.467268Z"
    }
   },
   "outputs": [],
   "source": [
    "seed = 1500\n",
    "\n",
    "random.seed(seed) ## contorl python random seed \n",
    "np.random.seed(seed)## contorl numpy random seed "
   ]
  },
  {
   "cell_type": "markdown",
   "id": "3cc79c29",
   "metadata": {},
   "source": [
    "# 0.05 : 0.95"
   ]
  },
  {
   "cell_type": "markdown",
   "id": "dae95aef",
   "metadata": {},
   "source": [
    "## Make Dataset"
   ]
  },
  {
   "cell_type": "code",
   "execution_count": 3,
   "id": "76676759",
   "metadata": {
    "ExecuteTime": {
     "end_time": "2024-04-03T11:37:22.502163Z",
     "start_time": "2024-04-03T11:37:22.471916Z"
    },
    "scrolled": false
   },
   "outputs": [
    {
     "name": "stdout",
     "output_type": "stream",
     "text": [
      "100\n",
      "100\n",
      "We make a total of 100 train datasets\n",
      "\n",
      "100\n",
      "100\n",
      "We make a total of 100 test datasets\n",
      "\n",
      "the number of train data points:  800\n",
      "the number of test data points:  200\n",
      "\n",
      "Number of outlier in train dataset:  40\n",
      "Number of outlier in test dataset:  10\n",
      "\n"
     ]
    }
   ],
   "source": [
    "#dataset = Dataset()\n",
    "#X_train_dataset, y_train_dataset, X_test_dataset, y_test_dataset  = dataset.dataset(n_samples=1000, outlier_fraction=0.05)\n",
    "\n",
    "path = \"./Data/Experiment_1/\"\n",
    "X_train_dataset, y_train_dataset, X_test_dataset, y_test_dataset = np.load(path + \"X_train_dataset.npy\"), np.load(path + \"y_train_dataset.npy\"), np.load(path + \"X_test_dataset.npy\"), np.load(path + \"y_test_dataset.npy\")\n",
    "print(len(X_train_dataset))\n",
    "print(len(y_train_dataset))\n",
    "print(\"We make a total of 100 train datasets\")\n",
    "print()\n",
    "print(len(X_test_dataset))\n",
    "print(len(y_test_dataset))\n",
    "print(\"We make a total of 100 test datasets\")\n",
    "print()\n",
    "print(\"the number of train data points: \", len(X_train_dataset[0]))\n",
    "print(\"the number of test data points: \", len(X_test_dataset[0]))\n",
    "print()\n",
    "print(\"Number of outlier in train dataset: \", sum(y_train_dataset[0]))\n",
    "print(\"Number of outlier in test dataset: \", sum(y_test_dataset[0]))\n",
    "print()"
   ]
  },
  {
   "cell_type": "markdown",
   "id": "9a542d66",
   "metadata": {},
   "source": [
    "## Train"
   ]
  },
  {
   "cell_type": "code",
   "execution_count": null,
   "id": "cb0b64d3",
   "metadata": {
    "ExecuteTime": {
     "end_time": "2024-04-03T13:38:46.218519Z",
     "start_time": "2024-04-03T11:37:22.503164Z"
    },
    "scrolled": true
   },
   "outputs": [],
   "source": [
    "train = Train(X_train_dataset, X_test_dataset, y_train_dataset, y_test_dataset, save_path = \"./Model/Experiment_1/\", scoring=\"f_beta\", beta=3, kappa=15)\n",
    "train.train(n_splits=5)"
   ]
  },
  {
   "cell_type": "markdown",
   "id": "e86cf00f",
   "metadata": {},
   "source": [
    "## Predict"
   ]
  },
  {
   "cell_type": "code",
   "execution_count": null,
   "id": "e5333a4e",
   "metadata": {
    "ExecuteTime": {
     "end_time": "2024-04-03T13:38:55.273561Z",
     "start_time": "2024-04-03T13:38:46.219521Z"
    }
   },
   "outputs": [],
   "source": [
    "result_re, result_f1, result_roc_auc = predict(n_splits=5, x_test_dataset=X_test_dataset, y_test_dataset=y_test_dataset, save_path= \"./Model/Experiment_1/\")"
   ]
  },
  {
   "cell_type": "markdown",
   "id": "d308462e",
   "metadata": {},
   "source": [
    "## Result"
   ]
  },
  {
   "cell_type": "markdown",
   "id": "755588ed",
   "metadata": {},
   "source": [
    "    recall score"
   ]
  },
  {
   "cell_type": "code",
   "execution_count": 6,
   "id": "92a60acb",
   "metadata": {
    "ExecuteTime": {
     "end_time": "2024-04-03T13:38:55.286400Z",
     "start_time": "2024-04-03T13:38:55.274561Z"
    }
   },
   "outputs": [
    {
     "data": {
      "text/html": [
       "<div>\n",
       "<style scoped>\n",
       "    .dataframe tbody tr th:only-of-type {\n",
       "        vertical-align: middle;\n",
       "    }\n",
       "\n",
       "    .dataframe tbody tr th {\n",
       "        vertical-align: top;\n",
       "    }\n",
       "\n",
       "    .dataframe thead th {\n",
       "        text-align: right;\n",
       "    }\n",
       "</style>\n",
       "<table border=\"1\" class=\"dataframe\">\n",
       "  <thead>\n",
       "    <tr style=\"text-align: right;\">\n",
       "      <th></th>\n",
       "      <th>grid</th>\n",
       "      <th>random</th>\n",
       "      <th>bayesian</th>\n",
       "    </tr>\n",
       "  </thead>\n",
       "  <tbody>\n",
       "    <tr>\n",
       "      <th>count</th>\n",
       "      <td>100.000000</td>\n",
       "      <td>100.000000</td>\n",
       "      <td>100.000000</td>\n",
       "    </tr>\n",
       "    <tr>\n",
       "      <th>mean</th>\n",
       "      <td>0.799000</td>\n",
       "      <td>0.807000</td>\n",
       "      <td>0.788000</td>\n",
       "    </tr>\n",
       "    <tr>\n",
       "      <th>std</th>\n",
       "      <td>0.311236</td>\n",
       "      <td>0.302933</td>\n",
       "      <td>0.312138</td>\n",
       "    </tr>\n",
       "    <tr>\n",
       "      <th>min</th>\n",
       "      <td>0.000000</td>\n",
       "      <td>0.000000</td>\n",
       "      <td>0.000000</td>\n",
       "    </tr>\n",
       "    <tr>\n",
       "      <th>25%</th>\n",
       "      <td>0.800000</td>\n",
       "      <td>0.800000</td>\n",
       "      <td>0.800000</td>\n",
       "    </tr>\n",
       "    <tr>\n",
       "      <th>50%</th>\n",
       "      <td>0.900000</td>\n",
       "      <td>0.900000</td>\n",
       "      <td>0.900000</td>\n",
       "    </tr>\n",
       "    <tr>\n",
       "      <th>75%</th>\n",
       "      <td>1.000000</td>\n",
       "      <td>1.000000</td>\n",
       "      <td>1.000000</td>\n",
       "    </tr>\n",
       "    <tr>\n",
       "      <th>max</th>\n",
       "      <td>1.000000</td>\n",
       "      <td>1.000000</td>\n",
       "      <td>1.000000</td>\n",
       "    </tr>\n",
       "  </tbody>\n",
       "</table>\n",
       "</div>"
      ],
      "text/plain": [
       "             grid      random    bayesian\n",
       "count  100.000000  100.000000  100.000000\n",
       "mean     0.799000    0.807000    0.788000\n",
       "std      0.311236    0.302933    0.312138\n",
       "min      0.000000    0.000000    0.000000\n",
       "25%      0.800000    0.800000    0.800000\n",
       "50%      0.900000    0.900000    0.900000\n",
       "75%      1.000000    1.000000    1.000000\n",
       "max      1.000000    1.000000    1.000000"
      ]
     },
     "execution_count": 6,
     "metadata": {},
     "output_type": "execute_result"
    }
   ],
   "source": [
    "result_re.describe()"
   ]
  },
  {
   "cell_type": "markdown",
   "id": "9f55bcc7",
   "metadata": {},
   "source": [
    "     f1 score"
   ]
  },
  {
   "cell_type": "code",
   "execution_count": 7,
   "id": "51986069",
   "metadata": {
    "ExecuteTime": {
     "end_time": "2024-04-03T13:38:55.294844Z",
     "start_time": "2024-04-03T13:38:55.287398Z"
    }
   },
   "outputs": [
    {
     "data": {
      "text/html": [
       "<div>\n",
       "<style scoped>\n",
       "    .dataframe tbody tr th:only-of-type {\n",
       "        vertical-align: middle;\n",
       "    }\n",
       "\n",
       "    .dataframe tbody tr th {\n",
       "        vertical-align: top;\n",
       "    }\n",
       "\n",
       "    .dataframe thead th {\n",
       "        text-align: right;\n",
       "    }\n",
       "</style>\n",
       "<table border=\"1\" class=\"dataframe\">\n",
       "  <thead>\n",
       "    <tr style=\"text-align: right;\">\n",
       "      <th></th>\n",
       "      <th>grid</th>\n",
       "      <th>random</th>\n",
       "      <th>bayesian</th>\n",
       "    </tr>\n",
       "  </thead>\n",
       "  <tbody>\n",
       "    <tr>\n",
       "      <th>count</th>\n",
       "      <td>100.000000</td>\n",
       "      <td>100.000000</td>\n",
       "      <td>100.000000</td>\n",
       "    </tr>\n",
       "    <tr>\n",
       "      <th>mean</th>\n",
       "      <td>0.707627</td>\n",
       "      <td>0.681422</td>\n",
       "      <td>0.750961</td>\n",
       "    </tr>\n",
       "    <tr>\n",
       "      <th>std</th>\n",
       "      <td>0.101563</td>\n",
       "      <td>0.086842</td>\n",
       "      <td>0.129638</td>\n",
       "    </tr>\n",
       "    <tr>\n",
       "      <th>min</th>\n",
       "      <td>0.445983</td>\n",
       "      <td>0.444444</td>\n",
       "      <td>0.442897</td>\n",
       "    </tr>\n",
       "    <tr>\n",
       "      <th>25%</th>\n",
       "      <td>0.687027</td>\n",
       "      <td>0.659253</td>\n",
       "      <td>0.694444</td>\n",
       "    </tr>\n",
       "    <tr>\n",
       "      <th>50%</th>\n",
       "      <td>0.740572</td>\n",
       "      <td>0.707369</td>\n",
       "      <td>0.772707</td>\n",
       "    </tr>\n",
       "    <tr>\n",
       "      <th>75%</th>\n",
       "      <td>0.765166</td>\n",
       "      <td>0.738296</td>\n",
       "      <td>0.857022</td>\n",
       "    </tr>\n",
       "    <tr>\n",
       "      <th>max</th>\n",
       "      <td>0.876594</td>\n",
       "      <td>0.821269</td>\n",
       "      <td>0.951900</td>\n",
       "    </tr>\n",
       "  </tbody>\n",
       "</table>\n",
       "</div>"
      ],
      "text/plain": [
       "             grid      random    bayesian\n",
       "count  100.000000  100.000000  100.000000\n",
       "mean     0.707627    0.681422    0.750961\n",
       "std      0.101563    0.086842    0.129638\n",
       "min      0.445983    0.444444    0.442897\n",
       "25%      0.687027    0.659253    0.694444\n",
       "50%      0.740572    0.707369    0.772707\n",
       "75%      0.765166    0.738296    0.857022\n",
       "max      0.876594    0.821269    0.951900"
      ]
     },
     "execution_count": 7,
     "metadata": {},
     "output_type": "execute_result"
    }
   ],
   "source": [
    "result_f1.describe()"
   ]
  },
  {
   "cell_type": "markdown",
   "id": "b369d5a7",
   "metadata": {},
   "source": [
    "    ROC-AUC score"
   ]
  },
  {
   "cell_type": "code",
   "execution_count": 8,
   "id": "1b07ab7a",
   "metadata": {
    "ExecuteTime": {
     "end_time": "2024-04-03T13:38:55.304905Z",
     "start_time": "2024-04-03T13:38:55.297131Z"
    }
   },
   "outputs": [
    {
     "data": {
      "text/html": [
       "<div>\n",
       "<style scoped>\n",
       "    .dataframe tbody tr th:only-of-type {\n",
       "        vertical-align: middle;\n",
       "    }\n",
       "\n",
       "    .dataframe tbody tr th {\n",
       "        vertical-align: top;\n",
       "    }\n",
       "\n",
       "    .dataframe thead th {\n",
       "        text-align: right;\n",
       "    }\n",
       "</style>\n",
       "<table border=\"1\" class=\"dataframe\">\n",
       "  <thead>\n",
       "    <tr style=\"text-align: right;\">\n",
       "      <th></th>\n",
       "      <th>grid</th>\n",
       "      <th>random</th>\n",
       "      <th>bayesian</th>\n",
       "    </tr>\n",
       "  </thead>\n",
       "  <tbody>\n",
       "    <tr>\n",
       "      <th>count</th>\n",
       "      <td>100.000000</td>\n",
       "      <td>100.000000</td>\n",
       "      <td>100.000000</td>\n",
       "    </tr>\n",
       "    <tr>\n",
       "      <th>mean</th>\n",
       "      <td>0.856579</td>\n",
       "      <td>0.851447</td>\n",
       "      <td>0.862026</td>\n",
       "    </tr>\n",
       "    <tr>\n",
       "      <th>std</th>\n",
       "      <td>0.159777</td>\n",
       "      <td>0.153662</td>\n",
       "      <td>0.164891</td>\n",
       "    </tr>\n",
       "    <tr>\n",
       "      <th>min</th>\n",
       "      <td>0.423684</td>\n",
       "      <td>0.421053</td>\n",
       "      <td>0.418421</td>\n",
       "    </tr>\n",
       "    <tr>\n",
       "      <th>25%</th>\n",
       "      <td>0.855921</td>\n",
       "      <td>0.850658</td>\n",
       "      <td>0.856579</td>\n",
       "    </tr>\n",
       "    <tr>\n",
       "      <th>50%</th>\n",
       "      <td>0.921053</td>\n",
       "      <td>0.917105</td>\n",
       "      <td>0.922368</td>\n",
       "    </tr>\n",
       "    <tr>\n",
       "      <th>75%</th>\n",
       "      <td>0.957895</td>\n",
       "      <td>0.948026</td>\n",
       "      <td>0.976316</td>\n",
       "    </tr>\n",
       "    <tr>\n",
       "      <th>max</th>\n",
       "      <td>0.984211</td>\n",
       "      <td>0.971053</td>\n",
       "      <td>0.994737</td>\n",
       "    </tr>\n",
       "  </tbody>\n",
       "</table>\n",
       "</div>"
      ],
      "text/plain": [
       "             grid      random    bayesian\n",
       "count  100.000000  100.000000  100.000000\n",
       "mean     0.856579    0.851447    0.862026\n",
       "std      0.159777    0.153662    0.164891\n",
       "min      0.423684    0.421053    0.418421\n",
       "25%      0.855921    0.850658    0.856579\n",
       "50%      0.921053    0.917105    0.922368\n",
       "75%      0.957895    0.948026    0.976316\n",
       "max      0.984211    0.971053    0.994737"
      ]
     },
     "execution_count": 8,
     "metadata": {},
     "output_type": "execute_result"
    }
   ],
   "source": [
    "result_roc_auc.describe()"
   ]
  },
  {
   "cell_type": "markdown",
   "id": "90749b6c",
   "metadata": {},
   "source": [
    "# 0.1:0.9"
   ]
  },
  {
   "cell_type": "markdown",
   "id": "bbd3e5b8",
   "metadata": {},
   "source": [
    "## Make Dataset"
   ]
  },
  {
   "cell_type": "code",
   "execution_count": 12,
   "id": "b53aa95e",
   "metadata": {
    "ExecuteTime": {
     "end_time": "2024-04-03T13:38:56.167624Z",
     "start_time": "2024-04-03T13:38:55.858313Z"
    }
   },
   "outputs": [
    {
     "name": "stdout",
     "output_type": "stream",
     "text": [
      "100\n",
      "100\n",
      "We make a total of 100 train datasets\n",
      "\n",
      "100\n",
      "100\n",
      "We make a total of 100 test datasets\n",
      "\n",
      "the number of train data points:  800\n",
      "the number of test data points:  200\n",
      "\n",
      "Number of outlier in train dataset:  80\n",
      "Number of outlier in test dataset:  20\n",
      "\n"
     ]
    }
   ],
   "source": [
    "#dataset_2 = Dataset()\n",
    "#X_train_dataset_2, y_train_dataset_2, X_test_dataset_2, y_test_dataset_2  = dataset_2.dataset(n_samples=1000, outlier_fraction=0.1)\n",
    "\n",
    "path2 = \"./Data/Experiment_2/\"\n",
    "X_train_dataset_2, y_train_dataset_2, X_test_dataset_2, y_test_dataset_2 = np.load(path2 + \"X_train_dataset.npy\"), np.load(path2 + \"y_train_dataset.npy\"), np.load(path2 + \"X_test_dataset.npy\"), np.load(path2 + \"y_test_dataset.npy\")\n",
    "\n",
    "print(len(X_train_dataset_2))\n",
    "print(len(y_train_dataset_2))\n",
    "print(\"We make a total of 100 train datasets\")\n",
    "print()\n",
    "print(len(X_test_dataset_2))\n",
    "print(len(y_test_dataset_2))\n",
    "print(\"We make a total of 100 test datasets\")\n",
    "print()\n",
    "print(\"the number of train data points: \", len(X_train_dataset_2[0]))\n",
    "print(\"the number of test data points: \", len(X_test_dataset_2[0]))\n",
    "print()\n",
    "print(\"Number of outlier in train dataset: \", sum(y_train_dataset_2[0]))\n",
    "print(\"Number of outlier in test dataset: \", sum(y_test_dataset_2[0]))\n",
    "print()"
   ]
  },
  {
   "cell_type": "markdown",
   "id": "8636bcae",
   "metadata": {},
   "source": [
    "## Train"
   ]
  },
  {
   "cell_type": "code",
   "execution_count": null,
   "id": "43ae1db1",
   "metadata": {
    "ExecuteTime": {
     "end_time": "2024-04-03T15:34:20.602913Z",
     "start_time": "2024-04-03T13:38:56.169753Z"
    },
    "scrolled": true
   },
   "outputs": [],
   "source": [
    "train_2 = Train(X_train_dataset_2, X_test_dataset_2, y_train_dataset_2, y_test_dataset_2, save_path = \"./Model/Experiment_2/\", scoring=\"f_beta\", beta=3, kappa=15)\n",
    "train_2.train(n_splits=5)"
   ]
  },
  {
   "cell_type": "markdown",
   "id": "1346d41d",
   "metadata": {},
   "source": [
    "## Predict"
   ]
  },
  {
   "cell_type": "code",
   "execution_count": null,
   "id": "c152952f",
   "metadata": {
    "ExecuteTime": {
     "end_time": "2024-04-03T15:34:29.328302Z",
     "start_time": "2024-04-03T15:34:20.602913Z"
    }
   },
   "outputs": [],
   "source": [
    "result_re_2, result_f1_2, result_roc_auc_2 = predict(n_splits=5, x_test_dataset=X_test_dataset_2, y_test_dataset=y_test_dataset_2, save_path= \"./Model/Experiment_2/\")"
   ]
  },
  {
   "cell_type": "markdown",
   "id": "51287193",
   "metadata": {},
   "source": [
    "## Result"
   ]
  },
  {
   "cell_type": "markdown",
   "id": "c54b113e",
   "metadata": {},
   "source": [
    "    recall score"
   ]
  },
  {
   "cell_type": "code",
   "execution_count": 15,
   "id": "55b87db6",
   "metadata": {
    "ExecuteTime": {
     "end_time": "2024-04-03T15:34:29.338745Z",
     "start_time": "2024-04-03T15:34:29.329309Z"
    }
   },
   "outputs": [
    {
     "data": {
      "text/html": [
       "<div>\n",
       "<style scoped>\n",
       "    .dataframe tbody tr th:only-of-type {\n",
       "        vertical-align: middle;\n",
       "    }\n",
       "\n",
       "    .dataframe tbody tr th {\n",
       "        vertical-align: top;\n",
       "    }\n",
       "\n",
       "    .dataframe thead th {\n",
       "        text-align: right;\n",
       "    }\n",
       "</style>\n",
       "<table border=\"1\" class=\"dataframe\">\n",
       "  <thead>\n",
       "    <tr style=\"text-align: right;\">\n",
       "      <th></th>\n",
       "      <th>grid</th>\n",
       "      <th>random</th>\n",
       "      <th>bayesian</th>\n",
       "    </tr>\n",
       "  </thead>\n",
       "  <tbody>\n",
       "    <tr>\n",
       "      <th>count</th>\n",
       "      <td>100.000000</td>\n",
       "      <td>100.000000</td>\n",
       "      <td>100.000000</td>\n",
       "    </tr>\n",
       "    <tr>\n",
       "      <th>mean</th>\n",
       "      <td>0.803500</td>\n",
       "      <td>0.804000</td>\n",
       "      <td>0.794500</td>\n",
       "    </tr>\n",
       "    <tr>\n",
       "      <th>std</th>\n",
       "      <td>0.300021</td>\n",
       "      <td>0.303655</td>\n",
       "      <td>0.300328</td>\n",
       "    </tr>\n",
       "    <tr>\n",
       "      <th>min</th>\n",
       "      <td>0.050000</td>\n",
       "      <td>0.050000</td>\n",
       "      <td>0.050000</td>\n",
       "    </tr>\n",
       "    <tr>\n",
       "      <th>25%</th>\n",
       "      <td>0.800000</td>\n",
       "      <td>0.800000</td>\n",
       "      <td>0.800000</td>\n",
       "    </tr>\n",
       "    <tr>\n",
       "      <th>50%</th>\n",
       "      <td>0.950000</td>\n",
       "      <td>0.950000</td>\n",
       "      <td>0.950000</td>\n",
       "    </tr>\n",
       "    <tr>\n",
       "      <th>75%</th>\n",
       "      <td>1.000000</td>\n",
       "      <td>1.000000</td>\n",
       "      <td>1.000000</td>\n",
       "    </tr>\n",
       "    <tr>\n",
       "      <th>max</th>\n",
       "      <td>1.000000</td>\n",
       "      <td>1.000000</td>\n",
       "      <td>1.000000</td>\n",
       "    </tr>\n",
       "  </tbody>\n",
       "</table>\n",
       "</div>"
      ],
      "text/plain": [
       "             grid      random    bayesian\n",
       "count  100.000000  100.000000  100.000000\n",
       "mean     0.803500    0.804000    0.794500\n",
       "std      0.300021    0.303655    0.300328\n",
       "min      0.050000    0.050000    0.050000\n",
       "25%      0.800000    0.800000    0.800000\n",
       "50%      0.950000    0.950000    0.950000\n",
       "75%      1.000000    1.000000    1.000000\n",
       "max      1.000000    1.000000    1.000000"
      ]
     },
     "execution_count": 15,
     "metadata": {},
     "output_type": "execute_result"
    }
   ],
   "source": [
    "result_re_2.describe()"
   ]
  },
  {
   "cell_type": "markdown",
   "id": "4e008227",
   "metadata": {},
   "source": [
    "    f1 score"
   ]
  },
  {
   "cell_type": "code",
   "execution_count": 16,
   "id": "e5289f5b",
   "metadata": {
    "ExecuteTime": {
     "end_time": "2024-04-03T15:34:29.345463Z",
     "start_time": "2024-04-03T15:34:29.338745Z"
    },
    "scrolled": true
   },
   "outputs": [
    {
     "data": {
      "text/html": [
       "<div>\n",
       "<style scoped>\n",
       "    .dataframe tbody tr th:only-of-type {\n",
       "        vertical-align: middle;\n",
       "    }\n",
       "\n",
       "    .dataframe tbody tr th {\n",
       "        vertical-align: top;\n",
       "    }\n",
       "\n",
       "    .dataframe thead th {\n",
       "        text-align: right;\n",
       "    }\n",
       "</style>\n",
       "<table border=\"1\" class=\"dataframe\">\n",
       "  <thead>\n",
       "    <tr style=\"text-align: right;\">\n",
       "      <th></th>\n",
       "      <th>grid</th>\n",
       "      <th>random</th>\n",
       "      <th>bayesian</th>\n",
       "    </tr>\n",
       "  </thead>\n",
       "  <tbody>\n",
       "    <tr>\n",
       "      <th>count</th>\n",
       "      <td>100.000000</td>\n",
       "      <td>100.000000</td>\n",
       "      <td>100.000000</td>\n",
       "    </tr>\n",
       "    <tr>\n",
       "      <th>mean</th>\n",
       "      <td>0.765593</td>\n",
       "      <td>0.748848</td>\n",
       "      <td>0.792330</td>\n",
       "    </tr>\n",
       "    <tr>\n",
       "      <th>std</th>\n",
       "      <td>0.120740</td>\n",
       "      <td>0.111604</td>\n",
       "      <td>0.138755</td>\n",
       "    </tr>\n",
       "    <tr>\n",
       "      <th>min</th>\n",
       "      <td>0.449407</td>\n",
       "      <td>0.467944</td>\n",
       "      <td>0.467944</td>\n",
       "    </tr>\n",
       "    <tr>\n",
       "      <th>25%</th>\n",
       "      <td>0.749551</td>\n",
       "      <td>0.735781</td>\n",
       "      <td>0.756589</td>\n",
       "    </tr>\n",
       "    <tr>\n",
       "      <th>50%</th>\n",
       "      <td>0.804779</td>\n",
       "      <td>0.791242</td>\n",
       "      <td>0.841897</td>\n",
       "    </tr>\n",
       "    <tr>\n",
       "      <th>75%</th>\n",
       "      <td>0.841897</td>\n",
       "      <td>0.819088</td>\n",
       "      <td>0.881908</td>\n",
       "    </tr>\n",
       "    <tr>\n",
       "      <th>max</th>\n",
       "      <td>0.937402</td>\n",
       "      <td>0.876398</td>\n",
       "      <td>0.986412</td>\n",
       "    </tr>\n",
       "  </tbody>\n",
       "</table>\n",
       "</div>"
      ],
      "text/plain": [
       "             grid      random    bayesian\n",
       "count  100.000000  100.000000  100.000000\n",
       "mean     0.765593    0.748848    0.792330\n",
       "std      0.120740    0.111604    0.138755\n",
       "min      0.449407    0.467944    0.467944\n",
       "25%      0.749551    0.735781    0.756589\n",
       "50%      0.804779    0.791242    0.841897\n",
       "75%      0.841897    0.819088    0.881908\n",
       "max      0.937402    0.876398    0.986412"
      ]
     },
     "execution_count": 16,
     "metadata": {},
     "output_type": "execute_result"
    }
   ],
   "source": [
    "result_f1_2.describe()"
   ]
  },
  {
   "cell_type": "markdown",
   "id": "199c9127",
   "metadata": {},
   "source": [
    "    roc_auc score"
   ]
  },
  {
   "cell_type": "code",
   "execution_count": 17,
   "id": "696fd3f1",
   "metadata": {
    "ExecuteTime": {
     "end_time": "2024-04-03T15:34:29.355136Z",
     "start_time": "2024-04-03T15:34:29.345463Z"
    }
   },
   "outputs": [
    {
     "data": {
      "text/html": [
       "<div>\n",
       "<style scoped>\n",
       "    .dataframe tbody tr th:only-of-type {\n",
       "        vertical-align: middle;\n",
       "    }\n",
       "\n",
       "    .dataframe tbody tr th {\n",
       "        vertical-align: top;\n",
       "    }\n",
       "\n",
       "    .dataframe thead th {\n",
       "        text-align: right;\n",
       "    }\n",
       "</style>\n",
       "<table border=\"1\" class=\"dataframe\">\n",
       "  <thead>\n",
       "    <tr style=\"text-align: right;\">\n",
       "      <th></th>\n",
       "      <th>grid</th>\n",
       "      <th>random</th>\n",
       "      <th>bayesian</th>\n",
       "    </tr>\n",
       "  </thead>\n",
       "  <tbody>\n",
       "    <tr>\n",
       "      <th>count</th>\n",
       "      <td>100.000000</td>\n",
       "      <td>100.000000</td>\n",
       "      <td>100.000000</td>\n",
       "    </tr>\n",
       "    <tr>\n",
       "      <th>mean</th>\n",
       "      <td>0.853611</td>\n",
       "      <td>0.848167</td>\n",
       "      <td>0.858778</td>\n",
       "    </tr>\n",
       "    <tr>\n",
       "      <th>std</th>\n",
       "      <td>0.157693</td>\n",
       "      <td>0.155292</td>\n",
       "      <td>0.160705</td>\n",
       "    </tr>\n",
       "    <tr>\n",
       "      <th>min</th>\n",
       "      <td>0.441667</td>\n",
       "      <td>0.466667</td>\n",
       "      <td>0.466667</td>\n",
       "    </tr>\n",
       "    <tr>\n",
       "      <th>25%</th>\n",
       "      <td>0.834028</td>\n",
       "      <td>0.836111</td>\n",
       "      <td>0.837500</td>\n",
       "    </tr>\n",
       "    <tr>\n",
       "      <th>50%</th>\n",
       "      <td>0.933333</td>\n",
       "      <td>0.922222</td>\n",
       "      <td>0.933333</td>\n",
       "    </tr>\n",
       "    <tr>\n",
       "      <th>75%</th>\n",
       "      <td>0.952778</td>\n",
       "      <td>0.944444</td>\n",
       "      <td>0.959028</td>\n",
       "    </tr>\n",
       "    <tr>\n",
       "      <th>max</th>\n",
       "      <td>0.986111</td>\n",
       "      <td>0.969444</td>\n",
       "      <td>0.997222</td>\n",
       "    </tr>\n",
       "  </tbody>\n",
       "</table>\n",
       "</div>"
      ],
      "text/plain": [
       "             grid      random    bayesian\n",
       "count  100.000000  100.000000  100.000000\n",
       "mean     0.853611    0.848167    0.858778\n",
       "std      0.157693    0.155292    0.160705\n",
       "min      0.441667    0.466667    0.466667\n",
       "25%      0.834028    0.836111    0.837500\n",
       "50%      0.933333    0.922222    0.933333\n",
       "75%      0.952778    0.944444    0.959028\n",
       "max      0.986111    0.969444    0.997222"
      ]
     },
     "execution_count": 17,
     "metadata": {},
     "output_type": "execute_result"
    }
   ],
   "source": [
    "result_roc_auc_2.describe()"
   ]
  },
  {
   "cell_type": "markdown",
   "id": "b48550d1",
   "metadata": {},
   "source": [
    "# 0.2:0.8"
   ]
  },
  {
   "cell_type": "markdown",
   "id": "15bae1a8",
   "metadata": {},
   "source": [
    "## Make Dataset"
   ]
  },
  {
   "cell_type": "code",
   "execution_count": 21,
   "id": "358b8ffc",
   "metadata": {
    "ExecuteTime": {
     "end_time": "2024-04-03T15:34:29.432550Z",
     "start_time": "2024-04-03T15:34:29.407111Z"
    }
   },
   "outputs": [
    {
     "name": "stdout",
     "output_type": "stream",
     "text": [
      "100\n",
      "100\n",
      "We make a total of 100 train datasets\n",
      "\n",
      "100\n",
      "100\n",
      "We make a total of 100 test datasets\n",
      "\n",
      "the number of train data points:  800\n",
      "the number of test data points:  200\n",
      "\n",
      "Number of outlier in train dataset:  160\n",
      "Number of outlier in test dataset:  40\n",
      "\n"
     ]
    }
   ],
   "source": [
    "#dataset_3 = Dataset()\n",
    "#X_train_dataset_3, y_train_dataset_3, X_test_dataset_3, y_test_dataset_3  = dataset_3.dataset(n_samples=1000, outlier_fraction=0.2)\n",
    "\n",
    "path3 = \"./Data/Experiment_3/\"\n",
    "X_train_dataset_3, y_train_dataset_3, X_test_dataset_3, y_test_dataset_3 = np.load(path3 + \"X_train_dataset.npy\"), np.load(path3 + \"y_train_dataset.npy\"), np.load(path3 + \"X_test_dataset.npy\"), np.load(path3 + \"y_test_dataset.npy\")\n",
    "\n",
    "\n",
    "print(len(X_train_dataset_3))\n",
    "print(len(y_train_dataset_3))\n",
    "print(\"We make a total of 100 train datasets\")\n",
    "print()\n",
    "print(len(X_test_dataset_3))\n",
    "print(len(y_test_dataset_3))\n",
    "print(\"We make a total of 100 test datasets\")\n",
    "print()\n",
    "print(\"the number of train data points: \", len(X_train_dataset_3[0]))\n",
    "print(\"the number of test data points: \", len(X_test_dataset_3[0]))\n",
    "print()\n",
    "print(\"Number of outlier in train dataset: \", sum(y_train_dataset_3[0]))\n",
    "print(\"Number of outlier in test dataset: \", sum(y_test_dataset_3[0]))\n",
    "print()"
   ]
  },
  {
   "cell_type": "markdown",
   "id": "62c6f376",
   "metadata": {},
   "source": [
    "## Train"
   ]
  },
  {
   "cell_type": "code",
   "execution_count": null,
   "id": "116c3025",
   "metadata": {
    "ExecuteTime": {
     "end_time": "2024-04-03T17:14:36.792829Z",
     "start_time": "2024-04-03T15:34:29.433552Z"
    }
   },
   "outputs": [],
   "source": [
    "train_3 = Train(X_train_dataset_3, X_test_dataset_3, y_train_dataset_3, y_test_dataset_3, save_path = \"./Model/Experiment_3/\", scoring=\"f_beta\", beta=3, kappa=15)\n",
    "train_3.train(n_splits=5)"
   ]
  },
  {
   "cell_type": "markdown",
   "id": "0ec4c3fa",
   "metadata": {},
   "source": [
    "## Predict"
   ]
  },
  {
   "cell_type": "code",
   "execution_count": null,
   "id": "8bf3c79c",
   "metadata": {
    "ExecuteTime": {
     "end_time": "2024-04-03T17:14:44.722615Z",
     "start_time": "2024-04-03T17:14:36.795923Z"
    }
   },
   "outputs": [],
   "source": [
    "result_re_3, result_f1_3, result_roc_auc_3 = predict(n_splits=5, x_test_dataset=X_test_dataset_3, y_test_dataset=y_test_dataset_3, save_path= \"./Model/Experiment_3/\")"
   ]
  },
  {
   "cell_type": "markdown",
   "id": "f6582810",
   "metadata": {},
   "source": [
    "## Result"
   ]
  },
  {
   "cell_type": "markdown",
   "id": "d7e10411",
   "metadata": {},
   "source": [
    "     recall score"
   ]
  },
  {
   "cell_type": "code",
   "execution_count": 24,
   "id": "db84fd72",
   "metadata": {
    "ExecuteTime": {
     "end_time": "2024-04-03T17:14:44.731347Z",
     "start_time": "2024-04-03T17:14:44.723621Z"
    }
   },
   "outputs": [
    {
     "data": {
      "text/html": [
       "<div>\n",
       "<style scoped>\n",
       "    .dataframe tbody tr th:only-of-type {\n",
       "        vertical-align: middle;\n",
       "    }\n",
       "\n",
       "    .dataframe tbody tr th {\n",
       "        vertical-align: top;\n",
       "    }\n",
       "\n",
       "    .dataframe thead th {\n",
       "        text-align: right;\n",
       "    }\n",
       "</style>\n",
       "<table border=\"1\" class=\"dataframe\">\n",
       "  <thead>\n",
       "    <tr style=\"text-align: right;\">\n",
       "      <th></th>\n",
       "      <th>grid</th>\n",
       "      <th>random</th>\n",
       "      <th>bayesian</th>\n",
       "    </tr>\n",
       "  </thead>\n",
       "  <tbody>\n",
       "    <tr>\n",
       "      <th>count</th>\n",
       "      <td>100.000000</td>\n",
       "      <td>100.000000</td>\n",
       "      <td>100.000000</td>\n",
       "    </tr>\n",
       "    <tr>\n",
       "      <th>mean</th>\n",
       "      <td>0.852750</td>\n",
       "      <td>0.855750</td>\n",
       "      <td>0.835500</td>\n",
       "    </tr>\n",
       "    <tr>\n",
       "      <th>std</th>\n",
       "      <td>0.248934</td>\n",
       "      <td>0.252759</td>\n",
       "      <td>0.265603</td>\n",
       "    </tr>\n",
       "    <tr>\n",
       "      <th>min</th>\n",
       "      <td>0.050000</td>\n",
       "      <td>0.075000</td>\n",
       "      <td>0.025000</td>\n",
       "    </tr>\n",
       "    <tr>\n",
       "      <th>25%</th>\n",
       "      <td>0.875000</td>\n",
       "      <td>0.875000</td>\n",
       "      <td>0.850000</td>\n",
       "    </tr>\n",
       "    <tr>\n",
       "      <th>50%</th>\n",
       "      <td>0.950000</td>\n",
       "      <td>0.975000</td>\n",
       "      <td>0.950000</td>\n",
       "    </tr>\n",
       "    <tr>\n",
       "      <th>75%</th>\n",
       "      <td>0.981250</td>\n",
       "      <td>1.000000</td>\n",
       "      <td>0.975000</td>\n",
       "    </tr>\n",
       "    <tr>\n",
       "      <th>max</th>\n",
       "      <td>1.000000</td>\n",
       "      <td>1.000000</td>\n",
       "      <td>1.000000</td>\n",
       "    </tr>\n",
       "  </tbody>\n",
       "</table>\n",
       "</div>"
      ],
      "text/plain": [
       "             grid      random    bayesian\n",
       "count  100.000000  100.000000  100.000000\n",
       "mean     0.852750    0.855750    0.835500\n",
       "std      0.248934    0.252759    0.265603\n",
       "min      0.050000    0.075000    0.025000\n",
       "25%      0.875000    0.875000    0.850000\n",
       "50%      0.950000    0.975000    0.950000\n",
       "75%      0.981250    1.000000    0.975000\n",
       "max      1.000000    1.000000    1.000000"
      ]
     },
     "execution_count": 24,
     "metadata": {},
     "output_type": "execute_result"
    }
   ],
   "source": [
    "result_re_3.describe()"
   ]
  },
  {
   "cell_type": "markdown",
   "id": "60c6c82b",
   "metadata": {},
   "source": [
    "    f1 score"
   ]
  },
  {
   "cell_type": "code",
   "execution_count": 25,
   "id": "b7c6e861",
   "metadata": {
    "ExecuteTime": {
     "end_time": "2024-04-03T17:14:44.747022Z",
     "start_time": "2024-04-03T17:14:44.731347Z"
    }
   },
   "outputs": [
    {
     "data": {
      "text/html": [
       "<div>\n",
       "<style scoped>\n",
       "    .dataframe tbody tr th:only-of-type {\n",
       "        vertical-align: middle;\n",
       "    }\n",
       "\n",
       "    .dataframe tbody tr th {\n",
       "        vertical-align: top;\n",
       "    }\n",
       "\n",
       "    .dataframe thead th {\n",
       "        text-align: right;\n",
       "    }\n",
       "</style>\n",
       "<table border=\"1\" class=\"dataframe\">\n",
       "  <thead>\n",
       "    <tr style=\"text-align: right;\">\n",
       "      <th></th>\n",
       "      <th>grid</th>\n",
       "      <th>random</th>\n",
       "      <th>bayesian</th>\n",
       "    </tr>\n",
       "  </thead>\n",
       "  <tbody>\n",
       "    <tr>\n",
       "      <th>count</th>\n",
       "      <td>100.000000</td>\n",
       "      <td>100.000000</td>\n",
       "      <td>100.000000</td>\n",
       "    </tr>\n",
       "    <tr>\n",
       "      <th>mean</th>\n",
       "      <td>0.842454</td>\n",
       "      <td>0.830228</td>\n",
       "      <td>0.856213</td>\n",
       "    </tr>\n",
       "    <tr>\n",
       "      <th>std</th>\n",
       "      <td>0.120684</td>\n",
       "      <td>0.115074</td>\n",
       "      <td>0.133017</td>\n",
       "    </tr>\n",
       "    <tr>\n",
       "      <th>min</th>\n",
       "      <td>0.448716</td>\n",
       "      <td>0.468059</td>\n",
       "      <td>0.447392</td>\n",
       "    </tr>\n",
       "    <tr>\n",
       "      <th>25%</th>\n",
       "      <td>0.848844</td>\n",
       "      <td>0.832209</td>\n",
       "      <td>0.855806</td>\n",
       "    </tr>\n",
       "    <tr>\n",
       "      <th>50%</th>\n",
       "      <td>0.879638</td>\n",
       "      <td>0.865767</td>\n",
       "      <td>0.906801</td>\n",
       "    </tr>\n",
       "    <tr>\n",
       "      <th>75%</th>\n",
       "      <td>0.906066</td>\n",
       "      <td>0.893311</td>\n",
       "      <td>0.928315</td>\n",
       "    </tr>\n",
       "    <tr>\n",
       "      <th>max</th>\n",
       "      <td>0.969861</td>\n",
       "      <td>0.931588</td>\n",
       "      <td>0.977196</td>\n",
       "    </tr>\n",
       "  </tbody>\n",
       "</table>\n",
       "</div>"
      ],
      "text/plain": [
       "             grid      random    bayesian\n",
       "count  100.000000  100.000000  100.000000\n",
       "mean     0.842454    0.830228    0.856213\n",
       "std      0.120684    0.115074    0.133017\n",
       "min      0.448716    0.468059    0.447392\n",
       "25%      0.848844    0.832209    0.855806\n",
       "50%      0.879638    0.865767    0.906801\n",
       "75%      0.906066    0.893311    0.928315\n",
       "max      0.969861    0.931588    0.977196"
      ]
     },
     "execution_count": 25,
     "metadata": {},
     "output_type": "execute_result"
    }
   ],
   "source": [
    "result_f1_3.describe()"
   ]
  },
  {
   "cell_type": "markdown",
   "id": "ce6fb1ec",
   "metadata": {
    "ExecuteTime": {
     "end_time": "2024-02-24T05:43:49.883441Z",
     "start_time": "2024-02-24T05:43:49.880528Z"
    }
   },
   "source": [
    "    ROC AUC score"
   ]
  },
  {
   "cell_type": "code",
   "execution_count": 26,
   "id": "d750f3a7",
   "metadata": {
    "ExecuteTime": {
     "end_time": "2024-04-03T17:14:44.755655Z",
     "start_time": "2024-04-03T17:14:44.748027Z"
    }
   },
   "outputs": [
    {
     "data": {
      "text/html": [
       "<div>\n",
       "<style scoped>\n",
       "    .dataframe tbody tr th:only-of-type {\n",
       "        vertical-align: middle;\n",
       "    }\n",
       "\n",
       "    .dataframe tbody tr th {\n",
       "        vertical-align: top;\n",
       "    }\n",
       "\n",
       "    .dataframe thead th {\n",
       "        text-align: right;\n",
       "    }\n",
       "</style>\n",
       "<table border=\"1\" class=\"dataframe\">\n",
       "  <thead>\n",
       "    <tr style=\"text-align: right;\">\n",
       "      <th></th>\n",
       "      <th>grid</th>\n",
       "      <th>random</th>\n",
       "      <th>bayesian</th>\n",
       "    </tr>\n",
       "  </thead>\n",
       "  <tbody>\n",
       "    <tr>\n",
       "      <th>count</th>\n",
       "      <td>100.000000</td>\n",
       "      <td>100.000000</td>\n",
       "      <td>100.000000</td>\n",
       "    </tr>\n",
       "    <tr>\n",
       "      <th>mean</th>\n",
       "      <td>0.879531</td>\n",
       "      <td>0.874594</td>\n",
       "      <td>0.882094</td>\n",
       "    </tr>\n",
       "    <tr>\n",
       "      <th>std</th>\n",
       "      <td>0.133442</td>\n",
       "      <td>0.130928</td>\n",
       "      <td>0.141064</td>\n",
       "    </tr>\n",
       "    <tr>\n",
       "      <th>min</th>\n",
       "      <td>0.465625</td>\n",
       "      <td>0.481250</td>\n",
       "      <td>0.471875</td>\n",
       "    </tr>\n",
       "    <tr>\n",
       "      <th>25%</th>\n",
       "      <td>0.896094</td>\n",
       "      <td>0.890625</td>\n",
       "      <td>0.892969</td>\n",
       "    </tr>\n",
       "    <tr>\n",
       "      <th>50%</th>\n",
       "      <td>0.931250</td>\n",
       "      <td>0.926562</td>\n",
       "      <td>0.937500</td>\n",
       "    </tr>\n",
       "    <tr>\n",
       "      <th>75%</th>\n",
       "      <td>0.950000</td>\n",
       "      <td>0.943750</td>\n",
       "      <td>0.962500</td>\n",
       "    </tr>\n",
       "    <tr>\n",
       "      <th>max</th>\n",
       "      <td>0.987500</td>\n",
       "      <td>0.968750</td>\n",
       "      <td>0.990625</td>\n",
       "    </tr>\n",
       "  </tbody>\n",
       "</table>\n",
       "</div>"
      ],
      "text/plain": [
       "             grid      random    bayesian\n",
       "count  100.000000  100.000000  100.000000\n",
       "mean     0.879531    0.874594    0.882094\n",
       "std      0.133442    0.130928    0.141064\n",
       "min      0.465625    0.481250    0.471875\n",
       "25%      0.896094    0.890625    0.892969\n",
       "50%      0.931250    0.926562    0.937500\n",
       "75%      0.950000    0.943750    0.962500\n",
       "max      0.987500    0.968750    0.990625"
      ]
     },
     "execution_count": 26,
     "metadata": {},
     "output_type": "execute_result"
    }
   ],
   "source": [
    "result_roc_auc_3.describe()"
   ]
  },
  {
   "cell_type": "markdown",
   "id": "5c6e4c66",
   "metadata": {},
   "source": [
    "# 0.3:0.7"
   ]
  },
  {
   "cell_type": "markdown",
   "id": "5020180f",
   "metadata": {},
   "source": [
    "## Make Datast"
   ]
  },
  {
   "cell_type": "code",
   "execution_count": 30,
   "id": "844c774f",
   "metadata": {
    "ExecuteTime": {
     "end_time": "2024-04-03T17:14:44.840772Z",
     "start_time": "2024-04-03T17:14:44.806637Z"
    }
   },
   "outputs": [
    {
     "name": "stdout",
     "output_type": "stream",
     "text": [
      "100\n",
      "100\n",
      "We make a total of 100 train datasets\n",
      "\n",
      "100\n",
      "100\n",
      "We make a total of 100 test datasets\n",
      "\n",
      "the number of train data points:  800\n",
      "the number of test data points:  200\n",
      "\n",
      "Number of outlier in train dataset:  240\n",
      "Number of outlier in test dataset:  60\n",
      "\n"
     ]
    }
   ],
   "source": [
    "#dataset_4 = Dataset()\n",
    "#X_train_dataset_4, y_train_dataset_4, X_test_dataset_4, y_test_dataset_4  = dataset_4.dataset(n_samples=1000, outlier_fraction=0.3)\n",
    "\n",
    "path4 = \"./Data/Experiment_4/\"\n",
    "X_train_dataset_4, y_train_dataset_4, X_test_dataset_4, y_test_dataset_4 = np.load(path4 + \"X_train_dataset.npy\"), np.load(path4 + \"y_train_dataset.npy\"), np.load(path4 + \"X_test_dataset.npy\"), np.load(path4 + \"y_test_dataset.npy\")\n",
    "\n",
    "print(len(X_train_dataset_4))\n",
    "print(len(y_train_dataset_4))\n",
    "print(\"We make a total of 100 train datasets\")\n",
    "print()\n",
    "print(len(X_test_dataset_4))\n",
    "print(len(y_test_dataset_4))\n",
    "print(\"We make a total of 100 test datasets\")\n",
    "print()\n",
    "print(\"the number of train data points: \", len(X_train_dataset_4[0]))\n",
    "print(\"the number of test data points: \", len(X_test_dataset_4[0]))\n",
    "print()\n",
    "print(\"Number of outlier in train dataset: \", sum(y_train_dataset_4[0]))\n",
    "print(\"Number of outlier in test dataset: \", sum(y_test_dataset_4[0]))\n",
    "print()"
   ]
  },
  {
   "cell_type": "markdown",
   "id": "986cf06c",
   "metadata": {},
   "source": [
    "## Train"
   ]
  },
  {
   "cell_type": "code",
   "execution_count": null,
   "id": "48b46385",
   "metadata": {
    "ExecuteTime": {
     "end_time": "2024-04-03T18:43:28.428220Z",
     "start_time": "2024-04-03T17:14:44.840772Z"
    },
    "scrolled": true
   },
   "outputs": [],
   "source": [
    "train_4 = Train(X_train_dataset_4, X_test_dataset_4, y_train_dataset_4, y_test_dataset_4, save_path = \"./Model/Experiment_4/\", scoring=\"f_beta\", beta=3, kappa=15)\n",
    "train_4.train(n_splits=5)"
   ]
  },
  {
   "cell_type": "markdown",
   "id": "c7bcbbe9",
   "metadata": {},
   "source": [
    "## Predict"
   ]
  },
  {
   "cell_type": "code",
   "execution_count": null,
   "id": "b074e617",
   "metadata": {
    "ExecuteTime": {
     "end_time": "2024-04-03T18:43:36.089160Z",
     "start_time": "2024-04-03T18:43:28.429226Z"
    }
   },
   "outputs": [],
   "source": [
    "result_re_4, result_f1_4, result_roc_auc_4 = predict(n_splits=5, x_test_dataset=X_test_dataset_4, y_test_dataset=y_test_dataset_4, save_path= \"./Model/Experiment_4/\")"
   ]
  },
  {
   "cell_type": "markdown",
   "id": "a6c8328d",
   "metadata": {},
   "source": [
    "## Result    "
   ]
  },
  {
   "cell_type": "markdown",
   "id": "f39955b0",
   "metadata": {},
   "source": [
    "    recall score"
   ]
  },
  {
   "cell_type": "code",
   "execution_count": 33,
   "id": "5bc1cc0f",
   "metadata": {
    "ExecuteTime": {
     "end_time": "2024-04-03T18:43:36.097677Z",
     "start_time": "2024-04-03T18:43:36.090157Z"
    }
   },
   "outputs": [
    {
     "data": {
      "text/html": [
       "<div>\n",
       "<style scoped>\n",
       "    .dataframe tbody tr th:only-of-type {\n",
       "        vertical-align: middle;\n",
       "    }\n",
       "\n",
       "    .dataframe tbody tr th {\n",
       "        vertical-align: top;\n",
       "    }\n",
       "\n",
       "    .dataframe thead th {\n",
       "        text-align: right;\n",
       "    }\n",
       "</style>\n",
       "<table border=\"1\" class=\"dataframe\">\n",
       "  <thead>\n",
       "    <tr style=\"text-align: right;\">\n",
       "      <th></th>\n",
       "      <th>grid</th>\n",
       "      <th>random</th>\n",
       "      <th>bayesian</th>\n",
       "    </tr>\n",
       "  </thead>\n",
       "  <tbody>\n",
       "    <tr>\n",
       "      <th>count</th>\n",
       "      <td>100.000000</td>\n",
       "      <td>100.000000</td>\n",
       "      <td>100.000000</td>\n",
       "    </tr>\n",
       "    <tr>\n",
       "      <th>mean</th>\n",
       "      <td>0.843833</td>\n",
       "      <td>0.850500</td>\n",
       "      <td>0.840667</td>\n",
       "    </tr>\n",
       "    <tr>\n",
       "      <th>std</th>\n",
       "      <td>0.240144</td>\n",
       "      <td>0.235577</td>\n",
       "      <td>0.227689</td>\n",
       "    </tr>\n",
       "    <tr>\n",
       "      <th>min</th>\n",
       "      <td>0.133333</td>\n",
       "      <td>0.116667</td>\n",
       "      <td>0.166667</td>\n",
       "    </tr>\n",
       "    <tr>\n",
       "      <th>25%</th>\n",
       "      <td>0.800000</td>\n",
       "      <td>0.816667</td>\n",
       "      <td>0.800000</td>\n",
       "    </tr>\n",
       "    <tr>\n",
       "      <th>50%</th>\n",
       "      <td>0.950000</td>\n",
       "      <td>0.950000</td>\n",
       "      <td>0.933333</td>\n",
       "    </tr>\n",
       "    <tr>\n",
       "      <th>75%</th>\n",
       "      <td>0.983333</td>\n",
       "      <td>0.983333</td>\n",
       "      <td>0.983333</td>\n",
       "    </tr>\n",
       "    <tr>\n",
       "      <th>max</th>\n",
       "      <td>1.000000</td>\n",
       "      <td>1.000000</td>\n",
       "      <td>1.000000</td>\n",
       "    </tr>\n",
       "  </tbody>\n",
       "</table>\n",
       "</div>"
      ],
      "text/plain": [
       "             grid      random    bayesian\n",
       "count  100.000000  100.000000  100.000000\n",
       "mean     0.843833    0.850500    0.840667\n",
       "std      0.240144    0.235577    0.227689\n",
       "min      0.133333    0.116667    0.166667\n",
       "25%      0.800000    0.816667    0.800000\n",
       "50%      0.950000    0.950000    0.933333\n",
       "75%      0.983333    0.983333    0.983333\n",
       "max      1.000000    1.000000    1.000000"
      ]
     },
     "execution_count": 33,
     "metadata": {},
     "output_type": "execute_result"
    }
   ],
   "source": [
    "result_re_4.describe()"
   ]
  },
  {
   "cell_type": "markdown",
   "id": "b547acea",
   "metadata": {},
   "source": [
    "    f1 score"
   ]
  },
  {
   "cell_type": "code",
   "execution_count": 34,
   "id": "bf3f718f",
   "metadata": {
    "ExecuteTime": {
     "end_time": "2024-04-03T18:43:36.111060Z",
     "start_time": "2024-04-03T18:43:36.098679Z"
    }
   },
   "outputs": [
    {
     "data": {
      "text/html": [
       "<div>\n",
       "<style scoped>\n",
       "    .dataframe tbody tr th:only-of-type {\n",
       "        vertical-align: middle;\n",
       "    }\n",
       "\n",
       "    .dataframe tbody tr th {\n",
       "        vertical-align: top;\n",
       "    }\n",
       "\n",
       "    .dataframe thead th {\n",
       "        text-align: right;\n",
       "    }\n",
       "</style>\n",
       "<table border=\"1\" class=\"dataframe\">\n",
       "  <thead>\n",
       "    <tr style=\"text-align: right;\">\n",
       "      <th></th>\n",
       "      <th>grid</th>\n",
       "      <th>random</th>\n",
       "      <th>bayesian</th>\n",
       "    </tr>\n",
       "  </thead>\n",
       "  <tbody>\n",
       "    <tr>\n",
       "      <th>count</th>\n",
       "      <td>100.000000</td>\n",
       "      <td>100.000000</td>\n",
       "      <td>100.000000</td>\n",
       "    </tr>\n",
       "    <tr>\n",
       "      <th>mean</th>\n",
       "      <td>0.857972</td>\n",
       "      <td>0.849934</td>\n",
       "      <td>0.871309</td>\n",
       "    </tr>\n",
       "    <tr>\n",
       "      <th>std</th>\n",
       "      <td>0.122655</td>\n",
       "      <td>0.115952</td>\n",
       "      <td>0.123447</td>\n",
       "    </tr>\n",
       "    <tr>\n",
       "      <th>min</th>\n",
       "      <td>0.463580</td>\n",
       "      <td>0.469655</td>\n",
       "      <td>0.520285</td>\n",
       "    </tr>\n",
       "    <tr>\n",
       "      <th>25%</th>\n",
       "      <td>0.850869</td>\n",
       "      <td>0.840903</td>\n",
       "      <td>0.848546</td>\n",
       "    </tr>\n",
       "    <tr>\n",
       "      <th>50%</th>\n",
       "      <td>0.899733</td>\n",
       "      <td>0.889368</td>\n",
       "      <td>0.918170</td>\n",
       "    </tr>\n",
       "    <tr>\n",
       "      <th>75%</th>\n",
       "      <td>0.925009</td>\n",
       "      <td>0.910386</td>\n",
       "      <td>0.947032</td>\n",
       "    </tr>\n",
       "    <tr>\n",
       "      <th>max</th>\n",
       "      <td>0.970909</td>\n",
       "      <td>0.959620</td>\n",
       "      <td>0.994076</td>\n",
       "    </tr>\n",
       "  </tbody>\n",
       "</table>\n",
       "</div>"
      ],
      "text/plain": [
       "             grid      random    bayesian\n",
       "count  100.000000  100.000000  100.000000\n",
       "mean     0.857972    0.849934    0.871309\n",
       "std      0.122655    0.115952    0.123447\n",
       "min      0.463580    0.469655    0.520285\n",
       "25%      0.850869    0.840903    0.848546\n",
       "50%      0.899733    0.889368    0.918170\n",
       "75%      0.925009    0.910386    0.947032\n",
       "max      0.970909    0.959620    0.994076"
      ]
     },
     "execution_count": 34,
     "metadata": {},
     "output_type": "execute_result"
    }
   ],
   "source": [
    "result_f1_4.describe()"
   ]
  },
  {
   "cell_type": "markdown",
   "id": "b16540e4",
   "metadata": {},
   "source": [
    "    ROC AUC score"
   ]
  },
  {
   "cell_type": "code",
   "execution_count": 35,
   "id": "d450be77",
   "metadata": {
    "ExecuteTime": {
     "end_time": "2024-04-03T18:43:36.118372Z",
     "start_time": "2024-04-03T18:43:36.111060Z"
    }
   },
   "outputs": [
    {
     "data": {
      "text/html": [
       "<div>\n",
       "<style scoped>\n",
       "    .dataframe tbody tr th:only-of-type {\n",
       "        vertical-align: middle;\n",
       "    }\n",
       "\n",
       "    .dataframe tbody tr th {\n",
       "        vertical-align: top;\n",
       "    }\n",
       "\n",
       "    .dataframe thead th {\n",
       "        text-align: right;\n",
       "    }\n",
       "</style>\n",
       "<table border=\"1\" class=\"dataframe\">\n",
       "  <thead>\n",
       "    <tr style=\"text-align: right;\">\n",
       "      <th></th>\n",
       "      <th>grid</th>\n",
       "      <th>random</th>\n",
       "      <th>bayesian</th>\n",
       "    </tr>\n",
       "  </thead>\n",
       "  <tbody>\n",
       "    <tr>\n",
       "      <th>count</th>\n",
       "      <td>100.000000</td>\n",
       "      <td>100.000000</td>\n",
       "      <td>100.000000</td>\n",
       "    </tr>\n",
       "    <tr>\n",
       "      <th>mean</th>\n",
       "      <td>0.873595</td>\n",
       "      <td>0.869429</td>\n",
       "      <td>0.880726</td>\n",
       "    </tr>\n",
       "    <tr>\n",
       "      <th>std</th>\n",
       "      <td>0.126612</td>\n",
       "      <td>0.122029</td>\n",
       "      <td>0.126169</td>\n",
       "    </tr>\n",
       "    <tr>\n",
       "      <th>min</th>\n",
       "      <td>0.480952</td>\n",
       "      <td>0.494048</td>\n",
       "      <td>0.526190</td>\n",
       "    </tr>\n",
       "    <tr>\n",
       "      <th>25%</th>\n",
       "      <td>0.848214</td>\n",
       "      <td>0.849405</td>\n",
       "      <td>0.850893</td>\n",
       "    </tr>\n",
       "    <tr>\n",
       "      <th>50%</th>\n",
       "      <td>0.924405</td>\n",
       "      <td>0.919643</td>\n",
       "      <td>0.930952</td>\n",
       "    </tr>\n",
       "    <tr>\n",
       "      <th>75%</th>\n",
       "      <td>0.946726</td>\n",
       "      <td>0.939286</td>\n",
       "      <td>0.957143</td>\n",
       "    </tr>\n",
       "    <tr>\n",
       "      <th>max</th>\n",
       "      <td>0.982143</td>\n",
       "      <td>0.975000</td>\n",
       "      <td>0.996429</td>\n",
       "    </tr>\n",
       "  </tbody>\n",
       "</table>\n",
       "</div>"
      ],
      "text/plain": [
       "             grid      random    bayesian\n",
       "count  100.000000  100.000000  100.000000\n",
       "mean     0.873595    0.869429    0.880726\n",
       "std      0.126612    0.122029    0.126169\n",
       "min      0.480952    0.494048    0.526190\n",
       "25%      0.848214    0.849405    0.850893\n",
       "50%      0.924405    0.919643    0.930952\n",
       "75%      0.946726    0.939286    0.957143\n",
       "max      0.982143    0.975000    0.996429"
      ]
     },
     "execution_count": 35,
     "metadata": {},
     "output_type": "execute_result"
    }
   ],
   "source": [
    "result_roc_auc_4.describe()"
   ]
  },
  {
   "cell_type": "markdown",
   "id": "001ad661",
   "metadata": {},
   "source": [
    "# 0.4:0.6"
   ]
  },
  {
   "cell_type": "markdown",
   "id": "2cea8a40",
   "metadata": {},
   "source": [
    "## Make Dataset"
   ]
  },
  {
   "cell_type": "code",
   "execution_count": 39,
   "id": "51cc3920",
   "metadata": {
    "ExecuteTime": {
     "end_time": "2024-04-03T18:43:36.196739Z",
     "start_time": "2024-04-03T18:43:36.169112Z"
    }
   },
   "outputs": [
    {
     "name": "stdout",
     "output_type": "stream",
     "text": [
      "100\n",
      "100\n",
      "We make a total of 100 train datasets\n",
      "\n",
      "100\n",
      "100\n",
      "We make a total of 100 test datasets\n",
      "\n",
      "the number of train data points:  800\n",
      "the number of test data points:  200\n",
      "\n",
      "Number of outlier in train dataset:  320\n",
      "Number of outlier in test dataset:  80\n",
      "\n"
     ]
    }
   ],
   "source": [
    "#dataset_5 = Dataset()\n",
    "#X_train_dataset_5, y_train_dataset_5, X_test_dataset_5, y_test_dataset_5  = dataset_5.dataset(n_samples=1000, outlier_fraction=0.4)\n",
    "\n",
    "path5 = \"./Data/Experiment_5/\"\n",
    "X_train_dataset_5, y_train_dataset_5, X_test_dataset_5, y_test_dataset_5 = np.load(path5 + \"X_train_dataset.npy\"), np.load(path5 + \"y_train_dataset.npy\"), np.load(path5 + \"X_test_dataset.npy\"), np.load(path5 + \"y_test_dataset.npy\")\n",
    "\n",
    "\n",
    "print(len(X_train_dataset_5))\n",
    "print(len(y_train_dataset_5))\n",
    "print(\"We make a total of 100 train datasets\")\n",
    "print()\n",
    "print(len(X_test_dataset_5))\n",
    "print(len(y_test_dataset_5))\n",
    "print(\"We make a total of 100 test datasets\")\n",
    "print()\n",
    "print(\"the number of train data points: \", len(X_train_dataset_5[0]))\n",
    "print(\"the number of test data points: \", len(X_test_dataset_5[0]))\n",
    "print()\n",
    "print(\"Number of outlier in train dataset: \", sum(y_train_dataset_5[0]))\n",
    "print(\"Number of outlier in test dataset: \", sum(y_test_dataset_5[0]))\n",
    "print()"
   ]
  },
  {
   "cell_type": "markdown",
   "id": "78126a06",
   "metadata": {},
   "source": [
    "## Train"
   ]
  },
  {
   "cell_type": "code",
   "execution_count": null,
   "id": "7e6fb89a",
   "metadata": {
    "ExecuteTime": {
     "end_time": "2024-04-03T20:05:20.081689Z",
     "start_time": "2024-04-03T18:43:36.197742Z"
    },
    "scrolled": true
   },
   "outputs": [],
   "source": [
    "train_5 = Train(X_train_dataset_5, X_test_dataset_5, y_train_dataset_5, y_test_dataset_5, save_path = \"./Model/Experiment_5/\", scoring=\"f_beta\", beta=3, kappa=15)\n",
    "train_5.train(n_splits=5)"
   ]
  },
  {
   "cell_type": "markdown",
   "id": "fcaa5ad3",
   "metadata": {},
   "source": [
    "## Predict"
   ]
  },
  {
   "cell_type": "code",
   "execution_count": null,
   "id": "fcf5e1bf",
   "metadata": {
    "ExecuteTime": {
     "end_time": "2024-04-03T20:05:27.248007Z",
     "start_time": "2024-04-03T20:05:20.082694Z"
    }
   },
   "outputs": [],
   "source": [
    "result_re_5, result_f1_5, result_roc_auc_5 = predict(n_splits=5, x_test_dataset=X_test_dataset_5, y_test_dataset=y_test_dataset_5, save_path= \"./Model/Experiment_5/\")"
   ]
  },
  {
   "cell_type": "markdown",
   "id": "ac84556e",
   "metadata": {},
   "source": [
    "## Result"
   ]
  },
  {
   "cell_type": "markdown",
   "id": "77198170",
   "metadata": {},
   "source": [
    "     recall score"
   ]
  },
  {
   "cell_type": "code",
   "execution_count": 42,
   "id": "854f3186",
   "metadata": {
    "ExecuteTime": {
     "end_time": "2024-04-03T20:05:27.255228Z",
     "start_time": "2024-04-03T20:05:27.248517Z"
    }
   },
   "outputs": [
    {
     "data": {
      "text/html": [
       "<div>\n",
       "<style scoped>\n",
       "    .dataframe tbody tr th:only-of-type {\n",
       "        vertical-align: middle;\n",
       "    }\n",
       "\n",
       "    .dataframe tbody tr th {\n",
       "        vertical-align: top;\n",
       "    }\n",
       "\n",
       "    .dataframe thead th {\n",
       "        text-align: right;\n",
       "    }\n",
       "</style>\n",
       "<table border=\"1\" class=\"dataframe\">\n",
       "  <thead>\n",
       "    <tr style=\"text-align: right;\">\n",
       "      <th></th>\n",
       "      <th>grid</th>\n",
       "      <th>random</th>\n",
       "      <th>bayesian</th>\n",
       "    </tr>\n",
       "  </thead>\n",
       "  <tbody>\n",
       "    <tr>\n",
       "      <th>count</th>\n",
       "      <td>100.000000</td>\n",
       "      <td>100.000000</td>\n",
       "      <td>100.000000</td>\n",
       "    </tr>\n",
       "    <tr>\n",
       "      <th>mean</th>\n",
       "      <td>0.851500</td>\n",
       "      <td>0.850750</td>\n",
       "      <td>0.847625</td>\n",
       "    </tr>\n",
       "    <tr>\n",
       "      <th>std</th>\n",
       "      <td>0.228392</td>\n",
       "      <td>0.235507</td>\n",
       "      <td>0.224246</td>\n",
       "    </tr>\n",
       "    <tr>\n",
       "      <th>min</th>\n",
       "      <td>0.175000</td>\n",
       "      <td>0.187500</td>\n",
       "      <td>0.200000</td>\n",
       "    </tr>\n",
       "    <tr>\n",
       "      <th>25%</th>\n",
       "      <td>0.846875</td>\n",
       "      <td>0.837500</td>\n",
       "      <td>0.843750</td>\n",
       "    </tr>\n",
       "    <tr>\n",
       "      <th>50%</th>\n",
       "      <td>0.950000</td>\n",
       "      <td>0.950000</td>\n",
       "      <td>0.943750</td>\n",
       "    </tr>\n",
       "    <tr>\n",
       "      <th>75%</th>\n",
       "      <td>0.975000</td>\n",
       "      <td>0.978125</td>\n",
       "      <td>0.975000</td>\n",
       "    </tr>\n",
       "    <tr>\n",
       "      <th>max</th>\n",
       "      <td>1.000000</td>\n",
       "      <td>1.000000</td>\n",
       "      <td>1.000000</td>\n",
       "    </tr>\n",
       "  </tbody>\n",
       "</table>\n",
       "</div>"
      ],
      "text/plain": [
       "             grid      random    bayesian\n",
       "count  100.000000  100.000000  100.000000\n",
       "mean     0.851500    0.850750    0.847625\n",
       "std      0.228392    0.235507    0.224246\n",
       "min      0.175000    0.187500    0.200000\n",
       "25%      0.846875    0.837500    0.843750\n",
       "50%      0.950000    0.950000    0.943750\n",
       "75%      0.975000    0.978125    0.975000\n",
       "max      1.000000    1.000000    1.000000"
      ]
     },
     "execution_count": 42,
     "metadata": {},
     "output_type": "execute_result"
    }
   ],
   "source": [
    "result_re_5.describe()"
   ]
  },
  {
   "cell_type": "markdown",
   "id": "5a8782bc",
   "metadata": {},
   "source": [
    "    f1 score"
   ]
  },
  {
   "cell_type": "code",
   "execution_count": 43,
   "id": "9ab179ee",
   "metadata": {
    "ExecuteTime": {
     "end_time": "2024-04-03T20:05:27.262023Z",
     "start_time": "2024-04-03T20:05:27.255228Z"
    }
   },
   "outputs": [
    {
     "data": {
      "text/html": [
       "<div>\n",
       "<style scoped>\n",
       "    .dataframe tbody tr th:only-of-type {\n",
       "        vertical-align: middle;\n",
       "    }\n",
       "\n",
       "    .dataframe tbody tr th {\n",
       "        vertical-align: top;\n",
       "    }\n",
       "\n",
       "    .dataframe thead th {\n",
       "        text-align: right;\n",
       "    }\n",
       "</style>\n",
       "<table border=\"1\" class=\"dataframe\">\n",
       "  <thead>\n",
       "    <tr style=\"text-align: right;\">\n",
       "      <th></th>\n",
       "      <th>grid</th>\n",
       "      <th>random</th>\n",
       "      <th>bayesian</th>\n",
       "    </tr>\n",
       "  </thead>\n",
       "  <tbody>\n",
       "    <tr>\n",
       "      <th>count</th>\n",
       "      <td>100.000000</td>\n",
       "      <td>100.000000</td>\n",
       "      <td>100.000000</td>\n",
       "    </tr>\n",
       "    <tr>\n",
       "      <th>mean</th>\n",
       "      <td>0.868885</td>\n",
       "      <td>0.861400</td>\n",
       "      <td>0.879324</td>\n",
       "    </tr>\n",
       "    <tr>\n",
       "      <th>std</th>\n",
       "      <td>0.129695</td>\n",
       "      <td>0.128881</td>\n",
       "      <td>0.133865</td>\n",
       "    </tr>\n",
       "    <tr>\n",
       "      <th>min</th>\n",
       "      <td>0.492643</td>\n",
       "      <td>0.481312</td>\n",
       "      <td>0.507466</td>\n",
       "    </tr>\n",
       "    <tr>\n",
       "      <th>25%</th>\n",
       "      <td>0.879350</td>\n",
       "      <td>0.866916</td>\n",
       "      <td>0.878923</td>\n",
       "    </tr>\n",
       "    <tr>\n",
       "      <th>50%</th>\n",
       "      <td>0.917163</td>\n",
       "      <td>0.911988</td>\n",
       "      <td>0.931999</td>\n",
       "    </tr>\n",
       "    <tr>\n",
       "      <th>75%</th>\n",
       "      <td>0.943262</td>\n",
       "      <td>0.933236</td>\n",
       "      <td>0.953489</td>\n",
       "    </tr>\n",
       "    <tr>\n",
       "      <th>max</th>\n",
       "      <td>0.979330</td>\n",
       "      <td>0.969107</td>\n",
       "      <td>0.989625</td>\n",
       "    </tr>\n",
       "  </tbody>\n",
       "</table>\n",
       "</div>"
      ],
      "text/plain": [
       "             grid      random    bayesian\n",
       "count  100.000000  100.000000  100.000000\n",
       "mean     0.868885    0.861400    0.879324\n",
       "std      0.129695    0.128881    0.133865\n",
       "min      0.492643    0.481312    0.507466\n",
       "25%      0.879350    0.866916    0.878923\n",
       "50%      0.917163    0.911988    0.931999\n",
       "75%      0.943262    0.933236    0.953489\n",
       "max      0.979330    0.969107    0.989625"
      ]
     },
     "execution_count": 43,
     "metadata": {},
     "output_type": "execute_result"
    }
   ],
   "source": [
    "result_f1_5.describe()\n"
   ]
  },
  {
   "cell_type": "markdown",
   "id": "03170e77",
   "metadata": {},
   "source": [
    "    ROC-AUC score"
   ]
  },
  {
   "cell_type": "code",
   "execution_count": 44,
   "id": "a8745437",
   "metadata": {
    "ExecuteTime": {
     "end_time": "2024-04-03T20:05:27.270249Z",
     "start_time": "2024-04-03T20:05:27.263031Z"
    }
   },
   "outputs": [
    {
     "data": {
      "text/html": [
       "<div>\n",
       "<style scoped>\n",
       "    .dataframe tbody tr th:only-of-type {\n",
       "        vertical-align: middle;\n",
       "    }\n",
       "\n",
       "    .dataframe tbody tr th {\n",
       "        vertical-align: top;\n",
       "    }\n",
       "\n",
       "    .dataframe thead th {\n",
       "        text-align: right;\n",
       "    }\n",
       "</style>\n",
       "<table border=\"1\" class=\"dataframe\">\n",
       "  <thead>\n",
       "    <tr style=\"text-align: right;\">\n",
       "      <th></th>\n",
       "      <th>grid</th>\n",
       "      <th>random</th>\n",
       "      <th>bayesian</th>\n",
       "    </tr>\n",
       "  </thead>\n",
       "  <tbody>\n",
       "    <tr>\n",
       "      <th>count</th>\n",
       "      <td>100.000000</td>\n",
       "      <td>100.000000</td>\n",
       "      <td>100.000000</td>\n",
       "    </tr>\n",
       "    <tr>\n",
       "      <th>mean</th>\n",
       "      <td>0.875375</td>\n",
       "      <td>0.869750</td>\n",
       "      <td>0.883146</td>\n",
       "    </tr>\n",
       "    <tr>\n",
       "      <th>std</th>\n",
       "      <td>0.127126</td>\n",
       "      <td>0.125616</td>\n",
       "      <td>0.130760</td>\n",
       "    </tr>\n",
       "    <tr>\n",
       "      <th>min</th>\n",
       "      <td>0.525000</td>\n",
       "      <td>0.510417</td>\n",
       "      <td>0.527083</td>\n",
       "    </tr>\n",
       "    <tr>\n",
       "      <th>25%</th>\n",
       "      <td>0.881250</td>\n",
       "      <td>0.864062</td>\n",
       "      <td>0.871875</td>\n",
       "    </tr>\n",
       "    <tr>\n",
       "      <th>50%</th>\n",
       "      <td>0.923958</td>\n",
       "      <td>0.919792</td>\n",
       "      <td>0.934375</td>\n",
       "    </tr>\n",
       "    <tr>\n",
       "      <th>75%</th>\n",
       "      <td>0.947917</td>\n",
       "      <td>0.941667</td>\n",
       "      <td>0.956771</td>\n",
       "    </tr>\n",
       "    <tr>\n",
       "      <th>max</th>\n",
       "      <td>0.983333</td>\n",
       "      <td>0.975000</td>\n",
       "      <td>0.991667</td>\n",
       "    </tr>\n",
       "  </tbody>\n",
       "</table>\n",
       "</div>"
      ],
      "text/plain": [
       "             grid      random    bayesian\n",
       "count  100.000000  100.000000  100.000000\n",
       "mean     0.875375    0.869750    0.883146\n",
       "std      0.127126    0.125616    0.130760\n",
       "min      0.525000    0.510417    0.527083\n",
       "25%      0.881250    0.864062    0.871875\n",
       "50%      0.923958    0.919792    0.934375\n",
       "75%      0.947917    0.941667    0.956771\n",
       "max      0.983333    0.975000    0.991667"
      ]
     },
     "execution_count": 44,
     "metadata": {},
     "output_type": "execute_result"
    }
   ],
   "source": [
    "result_roc_auc_5.describe()"
   ]
  },
  {
   "cell_type": "markdown",
   "id": "a88a2da8",
   "metadata": {},
   "source": [
    "-----"
   ]
  },
  {
   "cell_type": "raw",
   "id": "da353652",
   "metadata": {
    "ExecuteTime": {
     "end_time": "2024-04-03T11:34:55.012317Z",
     "start_time": "2024-04-03T11:34:54.988471Z"
    }
   },
   "source": [
    "import numpy as np\n",
    "######  Dataset_1 ######\n",
    "np.save('./Data/Experiment_1/X_train_dataset', X_train_dataset)\n",
    "np.save('./Data/Experiment_1/y_train_dataset', y_train_dataset)\n",
    "np.save('./Data/Experiment_1/X_test_dataset', X_test_dataset)\n",
    "np.save('./Data/Experiment_1/y_test_dataset', y_test_dataset)\n",
    "\n",
    "######  Dataset_2 ######\n",
    "np.save('./Data/Experiment_2/X_train_dataset', X_train_dataset_2)\n",
    "np.save('./Data/Experiment_2/y_train_dataset', y_train_dataset_2)\n",
    "np.save('./Data/Experiment_2/X_test_dataset', X_test_dataset_2)\n",
    "np.save('./Data/Experiment_2/y_test_dataset', y_test_dataset_2)\n",
    "\n",
    "######  Dataset_3 ######\n",
    "np.save('./Data/Experiment_3/X_train_dataset', X_train_dataset_3)\n",
    "np.save('./Data/Experiment_3/y_train_dataset', y_train_dataset_3)\n",
    "np.save('./Data/Experiment_3/X_test_dataset', X_test_dataset_3)\n",
    "np.save('./Data/Experiment_3/y_test_dataset', y_test_dataset_3)\n",
    "\n",
    "###### Dataset_4 ######\n",
    "np.save('./Data/Experiment_4/X_train_dataset', X_train_dataset_4)\n",
    "np.save('./Data/Experiment_4/y_train_dataset', y_train_dataset_4)\n",
    "np.save('./Data/Experiment_4/X_test_dataset', X_test_dataset_4)\n",
    "np.save('./Data/Experiment_4/y_test_dataset', y_test_dataset_4)\n",
    "\n",
    "###### Dataset_5 ######\n",
    "np.save('./Data/Experiment_5/X_train_dataset', X_train_dataset_5)\n",
    "np.save('./Data/Experiment_5/y_train_dataset', y_train_dataset_5)\n",
    "np.save('./Data/Experiment_5/X_test_dataset', X_test_dataset_5)\n",
    "np.save('./Data/Experiment_5/y_test_dataset', y_test_dataset_5)"
   ]
  }
 ],
 "metadata": {
  "kernelspec": {
   "display_name": "Python 3 (ipykernel)",
   "language": "python",
   "name": "python3"
  },
  "language_info": {
   "codemirror_mode": {
    "name": "ipython",
    "version": 3
   },
   "file_extension": ".py",
   "mimetype": "text/x-python",
   "name": "python",
   "nbconvert_exporter": "python",
   "pygments_lexer": "ipython3",
   "version": "3.11.5"
  },
  "toc": {
   "base_numbering": 1,
   "nav_menu": {},
   "number_sections": true,
   "sideBar": true,
   "skip_h1_title": false,
   "title_cell": "Table of Contents",
   "title_sidebar": "Contents",
   "toc_cell": false,
   "toc_position": {
    "height": "calc(100% - 180px)",
    "left": "10px",
    "top": "150px",
    "width": "383.976px"
   },
   "toc_section_display": true,
   "toc_window_display": false
  }
 },
 "nbformat": 4,
 "nbformat_minor": 5
}
